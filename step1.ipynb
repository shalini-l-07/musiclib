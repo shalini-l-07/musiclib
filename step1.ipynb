{
 "cells": [
  {
   "cell_type": "markdown",
   "id": "78c8b315-06c4-435d-9403-7dd7c4e3be02",
   "metadata": {},
   "source": [
    "## Python code equivalent of the C++ code\n",
    "\n",
    "class Library:\n",
    "\tdef __init__(self, book_name, author, pages, price):\n",
    "\t\tself.book_name = book_name\n",
    "\t\tself.author = author\n",
    "\t\tself.pages = pages\n",
    "\t\tself.price = price\n",
    "\n",
    "\tdef __str__(self):\n",
    "\t\treturn f\"{self.book_name}\\t {self.author}\\t {self.pages}\\t {self.price}\"\n",
    "\n",
    "\n",
    "# Driver Code\n",
    "if __name__ == \"__main__\":\n",
    "\t# Create an array of Library objects\n",
    "\tlib = []\n",
    "\n",
    "\t# Keep the track of the number of\n",
    "\t# of books available in the library\n",
    "\tcount = 0\n",
    "\n",
    "\t# Iterate the loop\n",
    "\twhile True:\n",
    "\t\tprint(\"\\n\\n********######WELCOME TO E-LIBRARY #####********\\n\")\n",
    "\t\tprint(\"1. Add book information\\n2. Display book information\\n\", \n",
    "\t\t\t\"3. List all books of given author\\n4. List the count of books in the library\\n5. Exit\\n\")\n",
    "\n",
    "\t\t# Enter the book details\n",
    "\t\tinput_choice = input(\"Enter one of the above: \")\n",
    "\n",
    "\t\t# Process the input\n",
    "\t\tif input_choice == '1':\n",
    "\t\t\tsong_name = input(\"Enter  name = Thriller.mp3,Shake It Off.mp3,Billie Jean.mp3,Bad Blood.mp3,Smooth Criminal.mp3,Anti-Hero.mp3\")\n",
    "\t\t\tlib.append(Library(book_name))\n",
    "\t\t\tcount += 1\n",
    "\t\telif input_choice == '2':\n",
    "\t\t\tprint(\"you have entered the following information\")\n",
    "\t\t\tfor book in lib:\n",
    "\t\t\t\tprint(book)\n",
    "\t\telif input_choice == '3':\n",
    "\t\t\tar_nm = input(\"Enter author name : \")\n",
    "\t\t\tfor book in lib:\n",
    "\t\t\t\tif book.author == ar_nm:\n",
    "\t\t\t\t\tprint(book)\n",
    "\t\telif input_choice == '4':\n",
    "\t\t\tprint(f\"\\nNo of books in library : {count}\\n\")\n",
    "\t\telif input_choice == '5':\n",
    "\t\t\texit(0)\n"
   ]
  },
  {
   "cell_type": "code",
   "execution_count": 69,
   "id": "e1104f8a-0c65-4b87-ba80-4b4ffeb64d32",
   "metadata": {},
   "outputs": [
    {
     "name": "stdout",
     "output_type": "stream",
     "text": [
      "Thriller.mp3,Shake It Off.mp3,Billie Jean.mp3,Bad Blood.mp3,Smooth Criminal.mp3,Anti-Hero.mp\n",
      "1.Display songs information\n",
      ",n2. Exit\n",
      "\n"
     ]
    },
    {
     "name": "stdin",
     "output_type": "stream",
     "text": [
      "Enter one of the above:  1\n"
     ]
    },
    {
     "name": "stdout",
     "output_type": "stream",
     "text": [
      "you have entered the following information\n",
      "Thriller.mp3,Shake It Off.mp3,Billie Jean.mp3,Bad Blood.mp3,Smooth Criminal.mp3,Anti-Hero.mp\n",
      "1.Display songs information\n",
      ",n2. Exit\n",
      "\n"
     ]
    },
    {
     "ename": "KeyboardInterrupt",
     "evalue": "Interrupted by user",
     "output_type": "error",
     "traceback": [
      "\u001b[1;31m---------------------------------------------------------------------------\u001b[0m",
      "\u001b[1;31mKeyboardInterrupt\u001b[0m                         Traceback (most recent call last)",
      "Cell \u001b[1;32mIn[69], line 24\u001b[0m\n\u001b[0;32m     21\u001b[0m \u001b[38;5;28mprint\u001b[39m(\u001b[38;5;124m\"\u001b[39m\u001b[38;5;124m1.Display songs information\u001b[39m\u001b[38;5;130;01m\\n\u001b[39;00m\u001b[38;5;124m,n2. Exit\u001b[39m\u001b[38;5;130;01m\\n\u001b[39;00m\u001b[38;5;124m\"\u001b[39m)\n\u001b[0;32m     23\u001b[0m \u001b[38;5;66;03m# Enter the book details\u001b[39;00m\n\u001b[1;32m---> 24\u001b[0m input_choice \u001b[38;5;241m=\u001b[39m \u001b[38;5;28minput\u001b[39m(\u001b[38;5;124m\"\u001b[39m\u001b[38;5;124mEnter one of the above: \u001b[39m\u001b[38;5;124m\"\u001b[39m)\n\u001b[0;32m     26\u001b[0m \u001b[38;5;66;03m# Process the input\u001b[39;00m\n\u001b[0;32m     27\u001b[0m \u001b[38;5;28;01mif\u001b[39;00m input_choice \u001b[38;5;241m==\u001b[39m \u001b[38;5;124m'\u001b[39m\u001b[38;5;124m1\u001b[39m\u001b[38;5;124m'\u001b[39m:\n",
      "File \u001b[1;32mD:\\anaconda\\Lib\\site-packages\\ipykernel\\kernelbase.py:1262\u001b[0m, in \u001b[0;36mKernel.raw_input\u001b[1;34m(self, prompt)\u001b[0m\n\u001b[0;32m   1260\u001b[0m     msg \u001b[38;5;241m=\u001b[39m \u001b[38;5;124m\"\u001b[39m\u001b[38;5;124mraw_input was called, but this frontend does not support input requests.\u001b[39m\u001b[38;5;124m\"\u001b[39m\n\u001b[0;32m   1261\u001b[0m     \u001b[38;5;28;01mraise\u001b[39;00m StdinNotImplementedError(msg)\n\u001b[1;32m-> 1262\u001b[0m \u001b[38;5;28;01mreturn\u001b[39;00m \u001b[38;5;28mself\u001b[39m\u001b[38;5;241m.\u001b[39m_input_request(\n\u001b[0;32m   1263\u001b[0m     \u001b[38;5;28mstr\u001b[39m(prompt),\n\u001b[0;32m   1264\u001b[0m     \u001b[38;5;28mself\u001b[39m\u001b[38;5;241m.\u001b[39m_parent_ident[\u001b[38;5;124m\"\u001b[39m\u001b[38;5;124mshell\u001b[39m\u001b[38;5;124m\"\u001b[39m],\n\u001b[0;32m   1265\u001b[0m     \u001b[38;5;28mself\u001b[39m\u001b[38;5;241m.\u001b[39mget_parent(\u001b[38;5;124m\"\u001b[39m\u001b[38;5;124mshell\u001b[39m\u001b[38;5;124m\"\u001b[39m),\n\u001b[0;32m   1266\u001b[0m     password\u001b[38;5;241m=\u001b[39m\u001b[38;5;28;01mFalse\u001b[39;00m,\n\u001b[0;32m   1267\u001b[0m )\n",
      "File \u001b[1;32mD:\\anaconda\\Lib\\site-packages\\ipykernel\\kernelbase.py:1305\u001b[0m, in \u001b[0;36mKernel._input_request\u001b[1;34m(self, prompt, ident, parent, password)\u001b[0m\n\u001b[0;32m   1302\u001b[0m \u001b[38;5;28;01mexcept\u001b[39;00m \u001b[38;5;167;01mKeyboardInterrupt\u001b[39;00m:\n\u001b[0;32m   1303\u001b[0m     \u001b[38;5;66;03m# re-raise KeyboardInterrupt, to truncate traceback\u001b[39;00m\n\u001b[0;32m   1304\u001b[0m     msg \u001b[38;5;241m=\u001b[39m \u001b[38;5;124m\"\u001b[39m\u001b[38;5;124mInterrupted by user\u001b[39m\u001b[38;5;124m\"\u001b[39m\n\u001b[1;32m-> 1305\u001b[0m     \u001b[38;5;28;01mraise\u001b[39;00m \u001b[38;5;167;01mKeyboardInterrupt\u001b[39;00m(msg) \u001b[38;5;28;01mfrom\u001b[39;00m \u001b[38;5;28;01mNone\u001b[39;00m\n\u001b[0;32m   1306\u001b[0m \u001b[38;5;28;01mexcept\u001b[39;00m \u001b[38;5;167;01mException\u001b[39;00m:\n\u001b[0;32m   1307\u001b[0m     \u001b[38;5;28mself\u001b[39m\u001b[38;5;241m.\u001b[39mlog\u001b[38;5;241m.\u001b[39mwarning(\u001b[38;5;124m\"\u001b[39m\u001b[38;5;124mInvalid Message:\u001b[39m\u001b[38;5;124m\"\u001b[39m, exc_info\u001b[38;5;241m=\u001b[39m\u001b[38;5;28;01mTrue\u001b[39;00m)\n",
      "\u001b[1;31mKeyboardInterrupt\u001b[0m: Interrupted by user"
     ]
    }
   ],
   "source": [
    "# Python code equivalent of the C++ code\n",
    "\n",
    "class Library:\n",
    "\tdef __init__(self, song_names):\n",
    "\t\tself.song_names = song_names\n",
    "\t\t\n",
    "\tdef __str__(self):\n",
    "\t\treturn f\"{self.song_names}\"\n",
    "\n",
    "\n",
    "# Driver Code\n",
    "if __name__ == \"__main__\":\n",
    "\t# Create an array of Library objects\n",
    "\tlib = []\n",
    "\n",
    "\tcount = 0\n",
    "\n",
    "\t# Iterate the loop\n",
    "\twhile True:\n",
    "\t\tprint(\"Thriller.mp3,Shake It Off.mp3,Billie Jean.mp3,Bad Blood.mp3,Smooth Criminal.mp3,Anti-Hero.mp\")\n",
    "\t\tprint(\"1.Display songs information\\n,n2. Exit\\n\")\n",
    "\n",
    "\t\t# Enter the book details\n",
    "\t\tinput_choice = input(\"Enter one of the above: \")\n",
    "\n",
    "\t\t# Process the input\n",
    "\t\tif input_choice == '1':\n",
    "\t\t\tprint(\"you have entered the following information\")\n",
    "\t\t\tfor book in lib:\n",
    "\t\t\t\tprint(song)\n",
    "\t\telif input_choice == '2':\n",
    "\t\t\texit(0)\n"
   ]
  },
  {
   "cell_type": "code",
   "execution_count": null,
   "id": "8f188a94-5d5f-451d-87d1-40deebbd9e0b",
   "metadata": {},
   "outputs": [],
   "source": []
  },
  {
   "cell_type": "markdown",
   "id": "0a16dae9-7905-49da-99ba-5137b18649d2",
   "metadata": {},
   "source": [
    "## Python code equivalent of the C++ code\n",
    "\n",
    "class Library:\n",
    "\tdef __init__(self, song_names):\n",
    "\t\tself.song_names = song_names\n",
    "\t\t\n",
    "\tdef __str__(self):\n",
    "\t\treturn f\"{self.song_names}\"\n",
    "\n",
    "\n",
    "# Driver Code\n",
    "if __name__ == \"__main__\":\n",
    "\t# Create an array of Library objects\n",
    "\tlib = []\n",
    "\n",
    "\tcount = 0\n",
    "\n",
    "\t# Iterate the loop\n",
    "\twhile True:\n",
    "\t\tprint(\"File: Music/Thriller.mp3,Song: Thriller,Artist: Michael Jackson,Album: Thriller\")\n",
    "\t\tprint(\"--------------\")\n",
    "\t\tprint(\"File: Music/Shake It Off.mp3,Song: Shake It Off,Artist: Taylor Swift,Album: 1989\")\n",
    "\t\t\n",
    "\t\tinput_choice = input(\"Enter one of the above: \")\n",
    "\n",
    "\t\t# Process the input\n",
    "\t\tif input_choice == '1':\n",
    "\t\t\tprint(\"you have entered the following information\")\n",
    "\t\t\tfor book in lib:\n",
    "\t\t\t\tprint(song)\n",
    "\t\telif input_choice == '2':\n",
    "\t\t\texit(0)\n"
   ]
  },
  {
   "cell_type": "code",
   "execution_count": null,
   "id": "5e1011db-a140-4617-a09c-38d129103166",
   "metadata": {},
   "outputs": [
    {
     "name": "stdout",
     "output_type": "stream",
     "text": [
      "File: Music/Thriller.mp3,Song: Thriller,Artist: Michael Jackson,Album: Thriller\n",
      "--------------\n",
      "File: Music/Shake It Off.mp3,Song: Shake It Off,Artist: Taylor Swift,Album: 1989\n"
     ]
    }
   ],
   "source": [
    "# Python code equivalent of the C++ code\n",
    "\n",
    "class Library:\n",
    "\tdef __init__(self, song_names):\n",
    "\t\tself.song_names = song_names\n",
    "\t\t\n",
    "\tdef __str__(self):\n",
    "\t\treturn f\"{self.song_names}\"\n",
    "\n",
    "\n",
    "# Driver Code\n",
    "if __name__ == \"__main__\":\n",
    "\t# Create an array of Library objects\n",
    "\tlib = []\n",
    "\n",
    "\tcount = 0\n",
    "\n",
    "\t# Iterate the loop\n",
    "\twhile True:\n",
    "\t\tprint(\"File: Music/Thriller.mp3,Song: Thriller,Artist: Michael Jackson,Album: Thriller\")\n",
    "\t\tprint(\"--------------\")\n",
    "\t\tprint(\"File: Music/Shake It Off.mp3,Song: Shake It Off,Artist: Taylor Swift,Album: 1989\")\n",
    "\t\t\n",
    "\t\t# Enter the book details\n",
    "\t\tinput_choice = input(\"Enter one of the above: \")\n",
    "\n",
    "\t\t# Process the input\n",
    "\t\tif input_choice == '1':\n",
    "\t\t\tprint(\"you have entered the following information\")\n",
    "\t\t\tfor book in lib:\n",
    "\t\t\t\tprint(song)\n",
    "\t\telif input_choice == '2':\n",
    "\t\t\texit(0)\n"
   ]
  },
  {
   "cell_type": "code",
   "execution_count": null,
   "id": "86c79a3c-0064-47b8-9972-5eef7447f597",
   "metadata": {},
   "outputs": [],
   "source": []
  },
  {
   "cell_type": "code",
   "execution_count": null,
   "id": "7cce87e1-8f8e-4e79-8a9d-1a7f32f860d3",
   "metadata": {},
   "outputs": [],
   "source": []
  }
 ],
 "metadata": {
  "kernelspec": {
   "display_name": "Python 3 (ipykernel)",
   "language": "python",
   "name": "python3"
  },
  "language_info": {
   "codemirror_mode": {
    "name": "ipython",
    "version": 3
   },
   "file_extension": ".py",
   "mimetype": "text/x-python",
   "name": "python",
   "nbconvert_exporter": "python",
   "pygments_lexer": "ipython3",
   "version": "3.12.4"
  }
 },
 "nbformat": 4,
 "nbformat_minor": 5
}
